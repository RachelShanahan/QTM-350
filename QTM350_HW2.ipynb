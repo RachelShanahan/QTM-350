{
  "nbformat": 4,
  "nbformat_minor": 0,
  "metadata": {
    "colab": {
      "name": "QTM350 HW2.ipynb",
      "provenance": [],
      "collapsed_sections": [],
      "toc_visible": true
    },
    "kernelspec": {
      "name": "python3",
      "display_name": "Python 3"
    }
  },
  "cells": [
    {
      "cell_type": "markdown",
      "metadata": {
        "id": "qmuqmstjbuMp",
        "colab_type": "text"
      },
      "source": [
        "#Python Packages"
      ]
    },
    {
      "cell_type": "markdown",
      "metadata": {
        "id": "s-L_V_8XdKrB",
        "colab_type": "text"
      },
      "source": [
        "#Tracks:\n",
        "\n",
        "Erin: Political Science\n",
        "\n",
        "Rachel: Psychology\n",
        "\n",
        "Karoline: Economics\n",
        "\n",
        "Hayley: Psychology"
      ]
    },
    {
      "cell_type": "markdown",
      "metadata": {
        "id": "gjLMfwpFMuQW",
        "colab_type": "text"
      },
      "source": [
        "**Karoline:**\n",
        "\n",
        "In my previous internship, one of my responsibilities was to build weekly data reports for clients. After a few weeks, I realized that I could use Python to automate various tasks such as copying & pasting Excel data and creating & formatting pivot tables. After creating my Python script, I could finish what used to be hours of manual work for many reports each week with a quick run of the Python script.\n",
        "\n",
        "When I create a report, I first have to extract updated data each week from the database and put it in a new csv file. Then, I need to copy that new data and paste it in a template file for the client. I can't provide the company files so the code below cannot run, but I added it below to illustrate how I used the Python package openpyxl to complete this task. Openpyxl is a useful Python library used to read or write Excel 2010 xlsx/xlsm/xltx/xltm files."
      ]
    },
    {
      "cell_type": "code",
      "metadata": {
        "id": "ACtvEG5FT1OK",
        "colab_type": "code",
        "colab": {}
      },
      "source": [
        "import pandas as pd\n",
        "read_file = pd.read_csv ('Report_formatted.csv')\n",
        "read_file.style.format({\"Total FB Minimum\": \"${:20,.0f}\", \"Estimated Total Charges\": \"${:20,.0f}\"})\n",
        "read_file.to_excel ('Report_formatted.xlsx', index = None, header=True)\n",
        " \n",
        "import openpyxl\n",
        "#Delete rows in template file\n",
        "excel_file = openpyxl.load_workbook('Client_Report.xlsm')\n",
        "excel_sheet = excel_file['Data']\n",
        "allrows = excel_sheet.max_row\n",
        "excel_sheet.delete_rows(idx=2, amount= allrows)\n",
        "excel_file.save('Report_formatted.xlsm')\n",
        "#File to be copied\n",
        "wb = openpyxl.load_workbook(\"Report_formatted.xlsx\")\n",
        "sheet = wb[\"Sheet1\"]\n",
        " \n",
        "#File to be pasted into\n",
        "template = openpyxl.load_workbook(\"Client_Report.xlsm\")\n",
        "temp_sheet = template[\"Data\"]\n",
        " \n",
        "#Copy range of cells to put into template file\n",
        "def copyRange(startCol, startRow, endCol, endRow, sheet):\n",
        "   rangeSelected = []\n",
        "   #Loops through selected Rows\n",
        "   for i in range(startRow,endRow + 1,1):\n",
        "       #Appends the row to a RowSelected list\n",
        "       rowSelected = []\n",
        "       for j in range(startCol,endCol+1,1):\n",
        "           rowSelected.append(sheet.cell(row = i, column = j).value)\n",
        "       #Adds the RowSelected List and nests inside the rangeSelected\n",
        "       rangeSelected.append(rowSelected)\n",
        "      \n",
        "   return rangeSelected\n",
        " \n",
        "#Paste data from copyRange into template sheet\n",
        "def pasteRange(startCol, startRow, endCol, endRow, sheetReceiving,copiedData):\n",
        "   countRow = 0\n",
        "   for i in range(startRow,endRow+1,1):\n",
        "       countCol = 0\n",
        "       for j in range(startCol,endCol+1,1):\n",
        "           sheetReceiving.cell(row = i, column = j).value = copiedData[countRow][countCol]\n",
        "           countCol += 1\n",
        "       countRow += 1\n",
        " \n",
        "def createData():\n",
        "   print(\"Processing...\")\n",
        "   allrows2 = sheet.max_row\n",
        "   allcolumns = sheet.max_column\n",
        "   selectedRange = copyRange(1,2,allcolumns,allrows2,sheet)\n",
        "   pastingRange = pasteRange(1,2,allcolumns,allrows2,temp_sheet,selectedRange)\n",
        "   template.save(\"Client_Report.xlsm\")\n",
        "   print(\"Range copied and pasted!\")\n",
        " \n",
        "createData()"
      ],
      "execution_count": 0,
      "outputs": []
    },
    {
      "cell_type": "markdown",
      "metadata": {
        "id": "UHXaFXLVZXdT",
        "colab_type": "text"
      },
      "source": [
        "**Rachel:**\n",
        "\n",
        "As someone on the Psychology substantive track for QTM, I constantly find myself surronded by academic studies, research experiments, and a vast quantity of data that needs to be sorted, labeled, and analyzed. Both in class and working on research projects in a lab, I have experienced the high demand and need to find a way to streamline data both categorically and numerically in a way that preserves the integrity of the entire report received. For this, I am drawn to Python as it is an incredibly readable and expressive language and rather intuitive. So, to try out a package that would help me further my research skills for psychology I thought it would be interesting to try out some of these python commands. Even a command like \"newspaper3k\" would have incredible functionality for someone with a psychology specialization. This command essentially allows you to retrieve news articles and associated meta-data from a wide selection of international publications. From this command, one can retrieve images, text snippets, and author names. The command even has some NLP functionality (natural language properties) mean that with this command, one could parse out specific phrases or words of interest that a researcher might want to use. It would save much time in contrast to having to parse through all of the data manually. "
      ]
    },
    {
      "cell_type": "code",
      "metadata": {
        "id": "XRGRjhIUeGP0",
        "colab_type": "code",
        "outputId": "75222409-d7a0-4940-96c9-cdca6e0b78ae",
        "colab": {
          "base_uri": "https://localhost:8080/",
          "height": 853
        }
      },
      "source": [
        "!pip3 install newspaper3k"
      ],
      "execution_count": 0,
      "outputs": [
        {
          "output_type": "stream",
          "text": [
            "Collecting newspaper3k\n",
            "\u001b[?25l  Downloading https://files.pythonhosted.org/packages/d7/b9/51afecb35bb61b188a4b44868001de348a0e8134b4dfa00ffc191567c4b9/newspaper3k-0.2.8-py3-none-any.whl (211kB)\n",
            "\u001b[K     |████████████████████████████████| 215kB 4.6MB/s \n",
            "\u001b[?25hRequirement already satisfied: PyYAML>=3.11 in /usr/local/lib/python3.6/dist-packages (from newspaper3k) (3.13)\n",
            "Requirement already satisfied: Pillow>=3.3.0 in /usr/local/lib/python3.6/dist-packages (from newspaper3k) (7.0.0)\n",
            "Collecting tldextract>=2.0.1\n",
            "\u001b[?25l  Downloading https://files.pythonhosted.org/packages/fd/0e/9ab599d6e78f0340bb1d1e28ddeacb38c8bb7f91a1b0eae9a24e9603782f/tldextract-2.2.2-py2.py3-none-any.whl (48kB)\n",
            "\u001b[K     |████████████████████████████████| 51kB 7.3MB/s \n",
            "\u001b[?25hRequirement already satisfied: lxml>=3.6.0 in /usr/local/lib/python3.6/dist-packages (from newspaper3k) (4.2.6)\n",
            "Collecting feedfinder2>=0.0.4\n",
            "  Downloading https://files.pythonhosted.org/packages/35/82/1251fefec3bb4b03fd966c7e7f7a41c9fc2bb00d823a34c13f847fd61406/feedfinder2-0.0.4.tar.gz\n",
            "Collecting jieba3k>=0.35.1\n",
            "\u001b[?25l  Downloading https://files.pythonhosted.org/packages/a9/cb/2c8332bcdc14d33b0bedd18ae0a4981a069c3513e445120da3c3f23a8aaa/jieba3k-0.35.1.zip (7.4MB)\n",
            "\u001b[K     |████████████████████████████████| 7.4MB 45.4MB/s \n",
            "\u001b[?25hRequirement already satisfied: requests>=2.10.0 in /usr/local/lib/python3.6/dist-packages (from newspaper3k) (2.21.0)\n",
            "Requirement already satisfied: beautifulsoup4>=4.4.1 in /usr/local/lib/python3.6/dist-packages (from newspaper3k) (4.6.3)\n",
            "Collecting cssselect>=0.9.2\n",
            "  Downloading https://files.pythonhosted.org/packages/3b/d4/3b5c17f00cce85b9a1e6f91096e1cc8e8ede2e1be8e96b87ce1ed09e92c5/cssselect-1.1.0-py2.py3-none-any.whl\n",
            "Requirement already satisfied: python-dateutil>=2.5.3 in /usr/local/lib/python3.6/dist-packages (from newspaper3k) (2.8.1)\n",
            "Collecting feedparser>=5.2.1\n",
            "\u001b[?25l  Downloading https://files.pythonhosted.org/packages/91/d8/7d37fec71ff7c9dbcdd80d2b48bcdd86d6af502156fc93846fb0102cb2c4/feedparser-5.2.1.tar.bz2 (192kB)\n",
            "\u001b[K     |████████████████████████████████| 194kB 46.8MB/s \n",
            "\u001b[?25hRequirement already satisfied: nltk>=3.2.1 in /usr/local/lib/python3.6/dist-packages (from newspaper3k) (3.2.5)\n",
            "Collecting tinysegmenter==0.3\n",
            "  Downloading https://files.pythonhosted.org/packages/17/82/86982e4b6d16e4febc79c2a1d68ee3b707e8a020c5d2bc4af8052d0f136a/tinysegmenter-0.3.tar.gz\n",
            "Collecting requests-file>=1.4\n",
            "  Downloading https://files.pythonhosted.org/packages/23/9c/6e63c23c39e53d3df41c77a3d05a49a42c4e1383a6d2a5e3233161b89dbf/requests_file-1.4.3-py2.py3-none-any.whl\n",
            "Requirement already satisfied: idna in /usr/local/lib/python3.6/dist-packages (from tldextract>=2.0.1->newspaper3k) (2.8)\n",
            "Requirement already satisfied: setuptools in /usr/local/lib/python3.6/dist-packages (from tldextract>=2.0.1->newspaper3k) (46.1.3)\n",
            "Requirement already satisfied: six in /usr/local/lib/python3.6/dist-packages (from feedfinder2>=0.0.4->newspaper3k) (1.12.0)\n",
            "Requirement already satisfied: chardet<3.1.0,>=3.0.2 in /usr/local/lib/python3.6/dist-packages (from requests>=2.10.0->newspaper3k) (3.0.4)\n",
            "Requirement already satisfied: certifi>=2017.4.17 in /usr/local/lib/python3.6/dist-packages (from requests>=2.10.0->newspaper3k) (2019.11.28)\n",
            "Requirement already satisfied: urllib3<1.25,>=1.21.1 in /usr/local/lib/python3.6/dist-packages (from requests>=2.10.0->newspaper3k) (1.24.3)\n",
            "Building wheels for collected packages: feedfinder2, jieba3k, feedparser, tinysegmenter\n",
            "  Building wheel for feedfinder2 (setup.py) ... \u001b[?25l\u001b[?25hdone\n",
            "  Created wheel for feedfinder2: filename=feedfinder2-0.0.4-cp36-none-any.whl size=3357 sha256=c78e4f46b16e96f2c1d4799d0791f0264e0c2d5f3aa4538944dc6c87e66675a8\n",
            "  Stored in directory: /root/.cache/pip/wheels/de/03/ca/778e3a7a627e3d98836cc890e7cb40c7575424cfd3340f40ed\n",
            "  Building wheel for jieba3k (setup.py) ... \u001b[?25l\u001b[?25hdone\n",
            "  Created wheel for jieba3k: filename=jieba3k-0.35.1-cp36-none-any.whl size=7398406 sha256=64de79aeaf4e5a2bfd83ce5641f48dacb23db48b25f59bf72fb97acc095b716d\n",
            "  Stored in directory: /root/.cache/pip/wheels/83/15/9c/a3f1f67e7f7181170ad37d32e503c35da20627c013f438ed34\n",
            "  Building wheel for feedparser (setup.py) ... \u001b[?25l\u001b[?25hdone\n",
            "  Created wheel for feedparser: filename=feedparser-5.2.1-cp36-none-any.whl size=44940 sha256=671cfb35bbbac9c442245c876d441ee6f619b7e6b87c193cb3a4d4c713455038\n",
            "  Stored in directory: /root/.cache/pip/wheels/8c/69/b7/f52763c41c5471df57703a0ef718a32a5e81ee35dcf6d4f97f\n",
            "  Building wheel for tinysegmenter (setup.py) ... \u001b[?25l\u001b[?25hdone\n",
            "  Created wheel for tinysegmenter: filename=tinysegmenter-0.3-cp36-none-any.whl size=13539 sha256=b17fc819158555c117ec564024beaee5508f40ea034a57b8c87aee5258685f69\n",
            "  Stored in directory: /root/.cache/pip/wheels/81/2b/43/a02ede72324dd40cdd7ca53aad718c7710628e91b8b0dc0f02\n",
            "Successfully built feedfinder2 jieba3k feedparser tinysegmenter\n",
            "Installing collected packages: requests-file, tldextract, feedfinder2, jieba3k, cssselect, feedparser, tinysegmenter, newspaper3k\n",
            "Successfully installed cssselect-1.1.0 feedfinder2-0.0.4 feedparser-5.2.1 jieba3k-0.35.1 newspaper3k-0.2.8 requests-file-1.4.3 tinysegmenter-0.3 tldextract-2.2.2\n"
          ],
          "name": "stdout"
        }
      ]
    },
    {
      "cell_type": "code",
      "metadata": {
        "id": "-F-AyE_-eN6N",
        "colab_type": "code",
        "colab": {}
      },
      "source": [
        "from newspaper import Article"
      ],
      "execution_count": 0,
      "outputs": []
    },
    {
      "cell_type": "code",
      "metadata": {
        "id": "Dpn_Nunrgddw",
        "colab_type": "code",
        "colab": {}
      },
      "source": [
        "url = 'https://www.reuters.com/article/us-health-coronavirus-wellcome/global-health-fund-calls-for-8-billion-to-begin-covid-19-exit-strategy-idUSKBN21P1GQ'"
      ],
      "execution_count": 0,
      "outputs": []
    },
    {
      "cell_type": "code",
      "metadata": {
        "id": "4ER-GSWagmzb",
        "colab_type": "code",
        "colab": {}
      },
      "source": [
        "a = Article(url)"
      ],
      "execution_count": 0,
      "outputs": []
    },
    {
      "cell_type": "code",
      "metadata": {
        "id": "LUY9TkY5exqZ",
        "colab_type": "code",
        "colab": {}
      },
      "source": [
        "a.download()"
      ],
      "execution_count": 0,
      "outputs": []
    },
    {
      "cell_type": "code",
      "metadata": {
        "id": "qLez6PhRe-NB",
        "colab_type": "code",
        "colab": {}
      },
      "source": [
        "a.parse()"
      ],
      "execution_count": 0,
      "outputs": []
    },
    {
      "cell_type": "code",
      "metadata": {
        "id": "SaK3-G-kidWc",
        "colab_type": "code",
        "outputId": "2c089ded-3eea-4ab3-f709-8af07072dca5",
        "colab": {
          "base_uri": "https://localhost:8080/",
          "height": 34
        }
      },
      "source": [
        "print(a.text[:150])"
      ],
      "execution_count": 0,
      "outputs": [
        {
          "output_type": "stream",
          "text": [
            "LONDON (Reuters) - A leading global health fund has asked international businesses and governments to provide $8 billion to support development and pr\n"
          ],
          "name": "stdout"
        }
      ]
    },
    {
      "cell_type": "code",
      "metadata": {
        "id": "G-5TfKrUiiHi",
        "colab_type": "code",
        "outputId": "2597c366-cf93-4082-bd5a-206c610ad814",
        "colab": {
          "base_uri": "https://localhost:8080/",
          "height": 34
        }
      },
      "source": [
        "print(a.title)"
      ],
      "execution_count": 0,
      "outputs": [
        {
          "output_type": "stream",
          "text": [
            "Global health fund calls for $8 billion to begin COVID-19 exit strategy\n"
          ],
          "name": "stdout"
        }
      ]
    },
    {
      "cell_type": "markdown",
      "metadata": {
        "id": "6W1VlK43jGDr",
        "colab_type": "text"
      },
      "source": [
        "In the above code cells I have written a brief example of how the command newspaper3k might work in Jupyter notebooks and just how useful it can be when given an even greater task. I used to command to show part of its complete functionality. I downloaded the article using python, parsed and printed a line including the first 150 characters by using the print(a.text[:150]) command. While this is not a psychology article, the same technique applies. I also used the package to print the title of the article that I was looking at. This same command could be used to parse much more thoroughly to find a specific result of a research study that I was looking at, just as an example.\n",
        " \n",
        " My experience trying this new command was quite fun and interesting. It reiterated to me the cohesive and readable nature of Python. I also utilized many web sources that talked about the command and its functionality to support me along the way. Because Python is so popular and user-friendly, it was a positive experience overall. It also gave me an idea to apply this command as a preliminary research method to all my work when searching for articles and information of interest. It also inspired me to venture out and explore more Python commands to help me with my goals. It can sometimes be daunting to incorporate new code and technological methods into my research. I think that a lot of times, we become wrapped in our research/substantive track and forget to utilize the resources and technology that we have at our disposal. Next time, I will more readily use and explore different Python commands (etc) to improve my skills as a researcher. I encourage others to try the same!"
      ]
    },
    {
      "cell_type": "markdown",
      "metadata": {
        "id": "lA12rMB6Uvkk",
        "colab_type": "text"
      },
      "source": [
        "**Hayley:**\n",
        "\n",
        "As a research assistant in an animal psychology lab, I have learned that Python is a great tool to accomplish several kinds of programming tasks. Using only Python packages, my lab has been able to create computerized cognitive experiments, collect and store data, and analyze and visualize results. One type of experiment often employed in my lab involves categorization tasks with monkeys. For example, a random image will appear on a touch screen, followed by two side-by-side squares representing two arbitrary categories. The monkey will then have to determine if the image belongs to the category on the left or right and tap on the corresponding square.\n",
        "\n",
        "In all experiments, it is important to make sure you are actually testing what you are aiming to test. This is especially difficult when working with animal cognition since you can't explain to the monkeys what the task is for or how to complete it. One small step I can take to check that the experiment is going as planned is to look at which squares are being selected by a monkey for each trial of the experiment. If the monkeys are continuously selecting a square on only one side, it indicates that they are learning the task incorrectly. This behavior is easily visualized using a specific type of graph, which I can create with the Seaborn package. Although it builds off of Matplotlib, Seaborn has many more features and graphing options, and, in my opinion, creates graphs that are easier to interpret. It is also very easy to use with other packages like Pandas."
      ]
    },
    {
      "cell_type": "code",
      "metadata": {
        "id": "cTyMRAjSVBTm",
        "colab_type": "code",
        "outputId": "252ea3dc-76f6-4ff3-a42d-930ab1991e88",
        "colab": {
          "base_uri": "https://localhost:8080/",
          "height": 71
        }
      },
      "source": [
        "# import packages\n",
        "import numpy as np\n",
        "import pandas as pd\n",
        "import seaborn as sns\n",
        "import matplotlib.pyplot as plt"
      ],
      "execution_count": 0,
      "outputs": [
        {
          "output_type": "stream",
          "text": [
            "/usr/local/lib/python3.6/dist-packages/statsmodels/tools/_testing.py:19: FutureWarning: pandas.util.testing is deprecated. Use the functions in the public API at pandas.testing instead.\n",
            "  import pandas.util.testing as tm\n"
          ],
          "name": "stderr"
        }
      ]
    },
    {
      "cell_type": "markdown",
      "metadata": {
        "id": "omi95bR7VOYj",
        "colab_type": "text"
      },
      "source": [
        "As Karoline has shown, Pandas is very useful and intuitive for creating and working with data frames. Below, I made a sample Pandas data frame to use for my graph. There are ten consecutive trials for each of the six monkeys in the lab. For each trial, a monkey selects a screen position of either 0 (left) or 1 (right)."
      ]
    },
    {
      "cell_type": "code",
      "metadata": {
        "id": "IQRmtIUHVQ_U",
        "colab_type": "code",
        "outputId": "6ead6038-795c-45e3-ada6-c7eda6360ac7",
        "colab": {
          "base_uri": "https://localhost:8080/",
          "height": 204
        }
      },
      "source": [
        "# make sample data using randomization\n",
        "pos = np.random.randint(2, size = 60)\n",
        "trial = np.tile(range(10), 6)\n",
        "monkey = np.repeat(range(6), 10)\n",
        "\n",
        "# turn arrays into pandas series\n",
        "p = pd.Series(pos)\n",
        "t = pd.Series(trial)\n",
        "m = pd.Series(monkey)\n",
        "df = pd.DataFrame(columns = [\"position\", \"trial\", \"monkey\"])\n",
        "\n",
        "# turn series into one data frame\n",
        "data = {\n",
        "    \"position\": p,\n",
        "    \"trial\": t,\n",
        "    \"monkey\": m\n",
        "}\n",
        "df = pd.DataFrame(data)\n",
        "\n",
        "df.head()"
      ],
      "execution_count": 0,
      "outputs": [
        {
          "output_type": "execute_result",
          "data": {
            "text/html": [
              "<div>\n",
              "<style scoped>\n",
              "    .dataframe tbody tr th:only-of-type {\n",
              "        vertical-align: middle;\n",
              "    }\n",
              "\n",
              "    .dataframe tbody tr th {\n",
              "        vertical-align: top;\n",
              "    }\n",
              "\n",
              "    .dataframe thead th {\n",
              "        text-align: right;\n",
              "    }\n",
              "</style>\n",
              "<table border=\"1\" class=\"dataframe\">\n",
              "  <thead>\n",
              "    <tr style=\"text-align: right;\">\n",
              "      <th></th>\n",
              "      <th>position</th>\n",
              "      <th>trial</th>\n",
              "      <th>monkey</th>\n",
              "    </tr>\n",
              "  </thead>\n",
              "  <tbody>\n",
              "    <tr>\n",
              "      <th>0</th>\n",
              "      <td>1</td>\n",
              "      <td>0</td>\n",
              "      <td>0</td>\n",
              "    </tr>\n",
              "    <tr>\n",
              "      <th>1</th>\n",
              "      <td>0</td>\n",
              "      <td>1</td>\n",
              "      <td>0</td>\n",
              "    </tr>\n",
              "    <tr>\n",
              "      <th>2</th>\n",
              "      <td>0</td>\n",
              "      <td>2</td>\n",
              "      <td>0</td>\n",
              "    </tr>\n",
              "    <tr>\n",
              "      <th>3</th>\n",
              "      <td>0</td>\n",
              "      <td>3</td>\n",
              "      <td>0</td>\n",
              "    </tr>\n",
              "    <tr>\n",
              "      <th>4</th>\n",
              "      <td>0</td>\n",
              "      <td>4</td>\n",
              "      <td>0</td>\n",
              "    </tr>\n",
              "  </tbody>\n",
              "</table>\n",
              "</div>"
            ],
            "text/plain": [
              "   position  trial  monkey\n",
              "0         1      0       0\n",
              "1         0      1       0\n",
              "2         0      2       0\n",
              "3         0      3       0\n",
              "4         0      4       0"
            ]
          },
          "metadata": {
            "tags": []
          },
          "execution_count": 2
        }
      ]
    },
    {
      "cell_type": "markdown",
      "metadata": {
        "id": "4_VC_JsYVbjE",
        "colab_type": "text"
      },
      "source": [
        "To graph my data, I first use the facet feature to create separate graphs for each monkey in my Pandas data frame. This makes it much easier to differentiate between each individual's behavior. I can change stylistic elements as well, such as color coding (\"hue\") and grid arrangement (\"col_wrap\").\n",
        "\n",
        "Next, I select which columns I want for the x and y axes and indicate the type of plot I am creating. There are more customizable options, such as the \"marker\" parameter.\n",
        "\n",
        "As a last step, I can make the graph look nicer by adjusting the axes ticks, labels, and limits. I can also adjust the overall fit and layout of the graph."
      ]
    },
    {
      "cell_type": "code",
      "metadata": {
        "id": "JfbFczIpVc9l",
        "colab_type": "code",
        "outputId": "231adb4c-0592-44c1-9faa-c8406de43bdc",
        "colab": {
          "base_uri": "https://localhost:8080/",
          "height": 225
        }
      },
      "source": [
        "# create empty graphs for each monkey\n",
        "grid = sns.FacetGrid(df, col=\"monkey\", hue=\"monkey\",\n",
        "                     col_wrap=3, height=1.5)\n",
        "\n",
        "# create line plot with trial on x-axis and position on y-axis for each monkey\n",
        "grid.map(plt.plot, \"trial\", \"position\")\n",
        "\n",
        "# set tick labels and positions\n",
        "grid.set(xticks=np.arange(10), yticks=[0, 1],\n",
        "         xlim=(0, 10), ylim=(0, 1))\n",
        "\n",
        "# final adjustments\n",
        "grid.fig.tight_layout()"
      ],
      "execution_count": 0,
      "outputs": [
        {
          "output_type": "display_data",
          "data": {
            "image/png": "[encoded data removed]",
            "text/plain": [
              "<Figure size 324x216 with 6 Axes>"
            ]
          },
          "metadata": {
            "tags": []
          }
        }
      ]
    },
    {
      "cell_type": "markdown",
      "metadata": {
        "id": "Vy_I_xydVjoC",
        "colab_type": "text"
      },
      "source": [
        "In the figure above, a flat line across the majority of trials indicates that a monkey is repeatedly selecting the same square, suggesting that he may not understand the given task. If this is the case, the researcher knows changes will need to be made to the experimental design.\n",
        "\n",
        "Seaborn is a very useful package for displaying information in a meaningful and aesthetic way. Whether you are visualizing the results of a scientific experiment or creating an out-of-the-box data science project, this package allows you to make something attractive and statistically informative very efficiently."
      ]
    },
    {
      "cell_type": "markdown",
      "metadata": {
        "id": "SH-YfaUjOxrv",
        "colab_type": "text"
      },
      "source": [
        "**Erin:**\n",
        "\n",
        "In my Capstone class, we are working with public procurement data from Colombia. The data details information about each project, including project number, initial year, additional days, additional money, type of contract, and city of origin.  Identifying and visualizing patterns within the data are a very important step in this project prior to creating a model to predict which projects are more prone to inefficiencies as measured in additional money and additional days. The data used in the project is confidential, however, a sample of data has been created for the purpose of this demonstration. \n",
        "\n",
        "The pandas package is very useful for filterinig the data. For example, if I wanted to filter the data by a distinct year I would run the following code:"
      ]
    },
    {
      "cell_type": "code",
      "metadata": {
        "id": "F4NAeL9tP4hW",
        "colab_type": "code",
        "outputId": "89dffab3-ad27-4f0e-a396-bf5d2b959913",
        "colab": {
          "base_uri": "https://localhost:8080/",
          "height": 425
        }
      },
      "source": [
        "#import packages\n",
        "import numpy as np\n",
        "import pandas as pd\n",
        "import matplotlib.pyplot as plt\n",
        "#import data\n",
        "url = 'https://raw.githubusercontent.com/ekoreil/datascience350/master/ColombiaData.csv'\n",
        "df = pd.read_csv(url, error_bad_lines=False)\n",
        "#view data\n",
        "print(df)\n",
        "#filtering by initial year of contract\n",
        "year_2011 = df['Anio Incio']==2011\n",
        "print(year_2011)\n"
      ],
      "execution_count": 0,
      "outputs": [
        {
          "output_type": "stream",
          "text": [
            "   Projecto  Anio Incio  ... Dias Adiciones        Ciudad\n",
            "0  12910101        2011  ...             43        Bogota\n",
            "1  91929292        2011  ...             52      Medellin\n",
            "2  12019292        2009  ...             22     Cartagena\n",
            "3  84848484        2000  ...             99        Bogota\n",
            "4  20921092        2017  ...             42          Cali\n",
            "5  92901921        2004  ...             83        Bogota\n",
            "6  93093214        2009  ...             56     Cartagena\n",
            "7  49484834        2014  ...             91  Barranquilla\n",
            "8  32039322        2020  ...             82      Medellin\n",
            "9  58483920        2019  ...             16          Cali\n",
            "\n",
            "[10 rows x 6 columns]\n",
            "0     True\n",
            "1     True\n",
            "2    False\n",
            "3    False\n",
            "4    False\n",
            "5    False\n",
            "6    False\n",
            "7    False\n",
            "8    False\n",
            "9    False\n",
            "Name: Anio Incio, dtype: bool\n"
          ],
          "name": "stdout"
        }
      ]
    },
    {
      "cell_type": "markdown",
      "metadata": {
        "id": "ha-vaQ6NP8bS",
        "colab_type": "text"
      },
      "source": [
        "This gives us all projects that were initiaited in the year 2011. This is an important year because it is when Colombia revamped both their e-public procurement process, and the way in which they collected data on their projects. Thus, a more useful filter would be to view all projects initiated on or after 2011:"
      ]
    },
    {
      "cell_type": "code",
      "metadata": {
        "id": "Dm5y7xqzQqEw",
        "colab_type": "code",
        "outputId": "352eca51-7514-44e9-a5c6-cd4f5e57ea72",
        "colab": {
          "base_uri": "https://localhost:8080/",
          "height": 204
        }
      },
      "source": [
        "#filtering by initial year of contract\n",
        "onafteryear_2011 = df['Anio Incio']>=2011\n",
        "print(onafteryear_2011)"
      ],
      "execution_count": 0,
      "outputs": [
        {
          "output_type": "stream",
          "text": [
            "0     True\n",
            "1     True\n",
            "2    False\n",
            "3    False\n",
            "4     True\n",
            "5    False\n",
            "6    False\n",
            "7     True\n",
            "8     True\n",
            "9     True\n",
            "Name: Anio Incio, dtype: bool\n"
          ],
          "name": "stdout"
        }
      ]
    },
    {
      "cell_type": "markdown",
      "metadata": {
        "id": "HgJmIHKuQuKf",
        "colab_type": "text"
      },
      "source": [
        "We are also interested in looking at patterns in where the projects are being done. We can filter by city to investigate this:"
      ]
    },
    {
      "cell_type": "code",
      "metadata": {
        "id": "8gV9UAhHQ3ZR",
        "colab_type": "code",
        "outputId": "730426dc-aa4f-42b7-980d-1ef5e4b08ce6",
        "colab": {
          "base_uri": "https://localhost:8080/",
          "height": 204
        }
      },
      "source": [
        "bogota_reponses = df['Ciudad'] == \"Bogota\"\n",
        "print(bogota_reponses)"
      ],
      "execution_count": 0,
      "outputs": [
        {
          "output_type": "stream",
          "text": [
            "0     True\n",
            "1    False\n",
            "2    False\n",
            "3     True\n",
            "4    False\n",
            "5     True\n",
            "6    False\n",
            "7    False\n",
            "8    False\n",
            "9    False\n",
            "Name: Ciudad, dtype: bool\n"
          ],
          "name": "stdout"
        }
      ]
    },
    {
      "cell_type": "markdown",
      "metadata": {
        "id": "aa27jp2HQ5Qt",
        "colab_type": "text"
      },
      "source": [
        "Quick visualizations are useful to check whether or not it is worth pursuing a relationshiip between two variables in our project. As Hayley has shown above, the package Matplotlib is useful for creating fast and easy plots:"
      ]
    },
    {
      "cell_type": "code",
      "metadata": {
        "id": "gX-FL_iHRW9y",
        "colab_type": "code",
        "outputId": "ca561c87-4f62-4866-fe06-56e7313755ec",
        "colab": {
          "base_uri": "https://localhost:8080/",
          "height": 312
        }
      },
      "source": [
        "#basic plot\n",
        "fig, ax = plt.subplots()\n",
        "plot = ax.scatter(\n",
        "    df[\"Dias Adiciones\"],\n",
        "    df[\"Valor Adiciones\"],\n",
        "    )\n",
        "ax.set_xlabel(\"Dias Adiciones\")\n",
        "ax.set_ylabel(\"Valor Adiciones\")\n",
        "ax.set_title(\"Valor Adiciones vs. Dias Adiciones en Projectos en Colombia\")"
      ],
      "execution_count": 0,
      "outputs": [
        {
          "output_type": "execute_result",
          "data": {
            "text/plain": [
              "Text(0.5, 1.0, 'Valor Adiciones vs. Dias Adiciones en Projectos en Colombia')"
            ]
          },
          "metadata": {
            "tags": []
          },
          "execution_count": 5
        },
        {
          "output_type": "display_data",
          "data": {
            "image/png": "[encoded data removed]",
            "text/plain": [
              "<Figure size 432x288 with 1 Axes>"
            ]
          },
          "metadata": {
            "tags": [],
            "needs_background": "light"
          }
        }
      ]
    },
    {
      "cell_type": "markdown",
      "metadata": {
        "id": "NVMwev7IRZ1G",
        "colab_type": "text"
      },
      "source": [
        "As we can see above, there does seem to be a postitivec correlation between Valor Adiciones and Dias Adiciones. Thus, we should push this along to some kind of regression or other modeling analysis. \n",
        "\n",
        "Pandas and Matplotlib are both very useful tools within Python. Both include logical language and commands, reminisent of dplyr and ggplot in R. This intiutive nature of the langauge makes it easy to learn and apply to large datasets. "
      ]
    }
  ]
}
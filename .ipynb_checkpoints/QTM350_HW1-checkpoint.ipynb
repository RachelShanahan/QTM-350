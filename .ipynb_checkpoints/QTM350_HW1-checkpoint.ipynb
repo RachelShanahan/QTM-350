{
  "nbformat": 4,
  "nbformat_minor": 0,
  "metadata": {
    "colab": {
      "name": "QTM350-HW1.ipynb",
      "provenance": [],
      "collapsed_sections": []
    },
    "kernelspec": {
      "name": "python3",
      "display_name": "Python 3"
    }
  },
  "cells": [
    {
      "cell_type": "markdown",
      "metadata": {
        "id": "THAfWviK0GQR",
        "colab_type": "text"
      },
      "source": [
        "#**Regular Expressions Homework!**\n",
        "**QTM 350**"
      ]
    },
    {
      "cell_type": "markdown",
      "metadata": {
        "id": "qBi20Mfb0eIe",
        "colab_type": "text"
      },
      "source": [
        "<h1>CJ - Cracking the Ccode with Ccrypt<h1>\n",
        "\n",
        "---\n",
        "\n",
        "The *ccrypt* command is an extremely useful linux tool that is used to encrypt and decrypt files or streams.  The command uses a variation of the Rijndael cipher, a version of which is also used in the American Encryption Standard (AES).  As a result, this encryption tool is trusted to provide a strong security against hackers.\n",
        "\n",
        "The *ccrypt* command has several different modes to choose from as well as other keywords to add onto the command: \n",
        "\n",
        "#Usage: ccrypt [ Mode ] [ options ] [ file... ]\n",
        "\n",
        "###Modes:\n",
        "- e, -- encrypt\n",
        "- d, -- decrypt\n",
        "- c, -- cat\n",
        "- x, -- keychange\n",
        "- u, -- unixcrypt\n",
        "\n",
        "###Options:\n",
        "- h, --help            print this help message and exit\n",
        "- V, --version         print version info and exit\n",
        "- L, --license         print license info and exit\n",
        "- v, --verbose         print progress information to stderr\n",
        "- q, --quiet           run quietly; suppress warnings\n",
        "- f, --force           overwrite existing files without asking\n",
        "- m, --mismatch        allow decryption with non-matching key\n",
        "- E, --envvar var      read keyword from environment variable (unsafe)\n",
        "- K, --key key         give keyword on command line (unsafe)\n",
        "- k, --keyfile file    read keyword(s) as first line(s) from file\n",
        "- S, --suffix .suf     use suffix .suf instead of default .cpt\n",
        "- s, --strictsuffix    refuse to encrypt files which already have suffix\n",
        "- t, --timid           prompt twice for encryption keys (default)\n",
        "- b, --brave           prompt only once for encryption keys\n",
        "- y, --keyref file     encryption key must match this encrypted file\n",
        "\n",
        "\n",
        "\n",
        "When called, *ccrypt* will overwrites the file in-place, making the original content of the file unreadable until called again.  One thing to note is that if you were to interrupt the command once it has been executed, the file will end up being permenantely corrupted: partially encrypted and unable to be salvaged.  Therefore, one must use extreme caution when using the *ccrypt* command.  \n"
      ]
    },
    {
      "cell_type": "code",
      "metadata": {
        "id": "7FcAMQoRGdOq",
        "colab_type": "code",
        "colab": {}
      },
      "source": [
        "# Imports the file galaxies2020.txt \n",
        "import file galaxies2020.txt\n",
        "\n",
        "# Encrypts the file galaxies2020.txt\n",
        "ccrypt e galaxies2020.txt\n",
        "\n",
        "# The output of the file will be illegible\n",
        "output: galaxies.cpt"
      ],
      "execution_count": 0,
      "outputs": []
    },
    {
      "cell_type": "markdown",
      "metadata": {
        "id": "teh-hI8QGhPk",
        "colab_type": "text"
      },
      "source": [
        "Note that after executing *ccrypt*, linux will change your file from .txt to .cpt - meaning that your file has been encrypted.\n",
        "\n",
        "After encrypting your file, ccrypt will output a password/keyword that you can then use to decrypt your file.  The below example shows this you can decrypt your file:"
      ]
    },
    {
      "cell_type": "code",
      "metadata": {
        "id": "PmBFR1XvGio0",
        "colab_type": "code",
        "colab": {}
      },
      "source": [
        "# To undo the encryption you must decrypt the file using the same key that was given to you after the encryption\n",
        "ccrypt d galaxies2020.cpt\n",
        "\n",
        "# The output will be the original galaxies2020.txt file\n",
        "output: galaxies2020.txt"
      ],
      "execution_count": 0,
      "outputs": []
    },
    {
      "cell_type": "markdown",
      "metadata": {
        "id": "zMxxmeeA3-kn",
        "colab_type": "text"
      },
      "source": [
        "#John Cox - Becoming an exprT \n",
        "\n",
        "\n",
        "\n"
      ]
    },
    {
      "cell_type": "markdown",
      "metadata": {
        "id": "8tYOSVAy7Pd3",
        "colab_type": "text"
      },
      "source": [
        "The expr command allows a user to evaluate a mathematical expression and display its output.  To use it, one must call the command, expr, then define the expression that is to be solved.  The basic syntax is as follows:\n",
        "\n",
        "`$ expr [expression]`\n",
        "\n",
        "For example, the code below will solve the simple expression 2 + 2."
      ]
    },
    {
      "cell_type": "code",
      "metadata": {
        "id": "oHtiuJjn4VVA",
        "colab_type": "code",
        "outputId": "152a953c-f0b8-443e-afa3-914ff1e65bae",
        "colab": {
          "base_uri": "https://localhost:8080/",
          "height": 34
        }
      },
      "source": [
        "! expr 2 + 2"
      ],
      "execution_count": 0,
      "outputs": [
        {
          "output_type": "stream",
          "text": [
            "4\n"
          ],
          "name": "stdout"
        }
      ]
    },
    {
      "cell_type": "markdown",
      "metadata": {
        "id": "Vo-84CJG8Cv0",
        "colab_type": "text"
      },
      "source": [
        "This command is extremely useful in many situations, especially in my QSS track, economics.  \n",
        "\n",
        "For an example of a use of expr in economics, there is a concept called the production possibilities frontier (PPF).  The PPF explains the tradeoffs in production that a person or a country faces when producing goods.  Say that country A can make two goods, chocolate and toothpaste.  If country A pools all of its resources to make chocolate, it won't be able to make any toothpaste.  Similarly if country A puts all of its energy into producing toothpaste, it won't be able to make any chocolate.  For every amount of chocolate that country A procuces between 0 and its max units of chocolate, it will be able to produce x amount of toothpaste.  We can use the expr command in a shell script to find out exactly how many units of toothpaste country A can produce while producing y amount of chocolate (assuming a linear relationship between production of chocolate and production of toothpaste).\n",
        "\n",
        "\n",
        "![](https://1stclasseconomics.com/wp-content/uploads/2016/11/Linear-PPF.png)\n",
        "\n",
        "\n",
        "For this example, lets assume country A can produce exactly 100 units of chocolate when all resources are put to making chocolate, and exactly 100 units of toothpaste when all resources are put to making toothpaste.  Then, in the following script, you can choose how much chocolate you want to create and the script will output the matching amount of toothpaste that is possible to produce."
      ]
    },
    {
      "cell_type": "code",
      "metadata": {
        "id": "J3Pzn0t05uEe",
        "colab_type": "code",
        "outputId": "ec191ec1-a8d1-45e4-93c6-ae87cc0da9a2",
        "colab": {
          "base_uri": "https://localhost:8080/",
          "height": 70
        }
      },
      "source": [
        "%%shell\n",
        "\n",
        "echo \"Enter units of chocolate you would like to produce (between 0 and 100)\"\n",
        "\n",
        "read x\n",
        "\n",
        "toothpaste=`expr 100 - $x`\n",
        "\n",
        "echo \"Units of toothpaste = $toothpaste\""
      ],
      "execution_count": 0,
      "outputs": [
        {
          "output_type": "stream",
          "text": [
            "Enter units of chocolate you would like to produce (between 0 and 100)\n",
            "3\n",
            "Units of toothpaste = 97\n"
          ],
          "name": "stdout"
        },
        {
          "output_type": "execute_result",
          "data": {
            "text/plain": [
              ""
            ]
          },
          "metadata": {
            "tags": []
          },
          "execution_count": 8
        }
      ]
    },
    {
      "cell_type": "markdown",
      "metadata": {
        "id": "oHiYiNME8bVE",
        "colab_type": "text"
      },
      "source": [
        "This is just a simple example of how the expr command can simplify the use of economic models, but you get the gist.  The expr command is a must-have for any economist using linux systems."
      ]
    },
    {
      "cell_type": "markdown",
      "metadata": {
        "id": "nvS7afuABjKm",
        "colab_type": "text"
      },
      "source": [
        "### Peter Freck\n",
        " \n",
        "###Colrm, Cool, and Collected\n",
        " \n",
        "Linux includes many different commands for editing text in almost every way imagineable. One of those commands is *colrm*, a useful tool to help edit text from script files, regular text files (.txt), or code files. Specifically, it removes desired columns from any given file. A “column” can be both a traditional field in a dataset but also any single character in a line.\n",
        " \n",
        "Here’s the basic syntax:\n",
        " \n",
        "`$ colrm [start] [stop]`\n",
        " \n",
        "And here are some basic syntax rules to start:\n",
        " \n",
        "*   The first character in a line is denoted as 1, not 0\n",
        "*   [start] and [stop] denote a range, not two distinct points so [1] [3] will delete not only columns 1 and 3, but also 2\n",
        "*   To delete only one row, both [start] and [stop] must be equal\n",
        "\n",
        "EXAMPLE:\n",
        "Let’s say you have the file *diamonds* that describes attributes of various diamonds on the market as well as suggested retail price. You’re looking to build a model to predict diamond prices based on this file.\n",
        " \n",
        "After doing some preliminary analysis, you determine that some of the variables are not going to be useful. The \"Carats\" of all the diamonds are too similar to come into play, the \"Cut\" field is blank, and \"Fluorescence\" is not significant. Let’s pretend these are the first three fields in your file, respectively. We should delete these because we don’t have to worry about them when we begin to construct our model.\n",
        " \n",
        "Here’s how we would remove all three columns:\n",
        " \n",
        "`$ colrm 1 3 < diamonds.txt`\n",
        " \n",
        "Here’s how only to only remove one column, say, Carats:\n",
        " \n",
        "`$ colrm 1 1 < diamonds.txt`\n",
        "\n",
        "In both cases, it will print out the remaining columns."
      ]
    },
    {
      "cell_type": "markdown",
      "metadata": {
        "id": "U-Kx_O_6KPv3",
        "colab_type": "text"
      },
      "source": [
        "### Rachel Shanahan\n",
        "\n",
        "### \"Finding Differences with *Diff*\"\n",
        "---\n",
        "\n",
        "A linux command that I have found helpful for looking at datasets in psychology research would be the *diff* command. Essentially, the *diff* command, which stands for difference, is used to show the differences that exist in files when they are compared line by line. It lets us know which lines would have to be changed in a file in order to make both files identical to each other. This command uses special symbols and instruction in order to let the user know which exact changes to make to ensure that the files are identical to each other.\n",
        "\n",
        "In psychology research, I would use this function as a way to determine any differences, outliers, or anomalies between data sets. Often in psychology research, large cross-sectional studies or longitudinal ones are utilized and there are many subjects and variables to consider. If we wanted to quickly compare in a quantitative sense the basic differences among subjects in a study, the *diff* command would be extremely useful. A specific of this would be psychology research that I have previously worked on in the past which focused on the correlates between trauma and multiple sclerosis (in additional to other disabilities) and its psychological effects. The *diff* command be used to compare the survey results of two different patients interviewed. It would allow me or other researchers to assess the fundamental differences in their demographics and experiences that could be detected through coding. From here, it would allow me to efficiently carry out the process of looking through the actual qualitiative results and findings. Using this quantitative analysis would streamline the subsequent qualitative process of understanding psychological trauma and its effects.\n",
        "\n",
        "Below is a basic example of how I would use the *diff* command to help me better improve my efficiency and skills in psychology research. For this example, we will pretend that we have File1 and File2, which contains the information of patient 1 and patient 2, respectively. This information contains the information in the file below: \n",
        "\n",
        "file1.txt =\n",
        "female\n",
        "twenties\n",
        "single\n",
        "asian\n",
        "1 kid\n",
        "\n",
        "file2.txt = \n",
        "female\n",
        "twenties\n",
        "married\n",
        "asian\n",
        "no kids\n",
        "\n",
        "We will use the diff command to find the differences between the two files."
      ]
    },
    {
      "cell_type": "code",
      "metadata": {
        "id": "6ba4Kf-HKUND",
        "colab_type": "code",
        "colab": {}
      },
      "source": [
        "\n",
        "#use ls to list the files that you are accessing\n",
        "ls\n",
        "\n",
        "#use *cat* command to output the contents of each files\n",
        "cat file1.txt\n",
        "\n",
        "cat file2.txt\n",
        "\n",
        "#now apply the *diff* command without any option to get output\n",
        "diff file1.txt file2.txt\n",
        " \n",
        "#output: \n",
        "# 2a3 \n",
        "# > married\n",
        "# 5c5  \n",
        "# < no kids\n"
      ],
      "execution_count": 0,
      "outputs": []
    },
    {
      "cell_type": "markdown",
      "metadata": {
        "id": "y7Bc4IAlKYt1",
        "colab_type": "text"
      },
      "source": [
        "The output above shows that from lines 2 to 3 there should be a change, and in line 5 there should be a change from no kids to kids. While we would not do this exact change for the psych research, it does show us the basic qualitative differences between the files and thus, the patients examined. Thus, the *diff* command is an asset to me and something that I will continue to use in further psychology research studies."
      ]
    }
  ]
}